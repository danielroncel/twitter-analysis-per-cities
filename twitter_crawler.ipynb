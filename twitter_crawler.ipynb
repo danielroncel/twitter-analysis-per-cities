{
 "cells": [
  {
   "cell_type": "markdown",
   "metadata": {},
   "source": [
    "# Most common words and bigrams in the last minutes per location in Spain"
   ]
  },
  {
   "cell_type": "markdown",
   "metadata": {},
   "source": [
    "**Author: Daniel Roncel Díaz**\n",
    "\n",
    "**Date: 13/04/2021**"
   ]
  },
  {
   "cell_type": "code",
   "execution_count": 1,
   "metadata": {},
   "outputs": [],
   "source": [
    "import codecs\n",
    "import tweepy\n",
    "import json\n",
    "import time\n",
    "import re # RegEx\n",
    "import pandas as pd\n",
    "import numpy as np\n",
    "import os\n",
    "from datetime import datetime\n",
    "import emoji\n",
    "from nltk.util import ngrams\n",
    "from nltk.corpus import stopwords\n",
    "from collections import Counter\n",
    "from textblob import TextBlob\n",
    "import matplotlib.pyplot as plt\n",
    "import cartopy.crs as ccrs\n",
    "from matplotlib.patches import Circle\n",
    "import matplotlib.pyplot as plt\n",
    "from matplotlib.patches import Patch\n",
    "from matplotlib.lines import Line2D"
   ]
  },
  {
   "cell_type": "markdown",
   "metadata": {},
   "source": [
    "## 1. Load cities name"
   ]
  },
  {
   "cell_type": "markdown",
   "metadata": {},
   "source": [
    "**Get the current path to access easily to input and output folders:**"
   ]
  },
  {
   "cell_type": "code",
   "execution_count": 2,
   "metadata": {},
   "outputs": [],
   "source": [
    "folder_path = os.getcwd()"
   ]
  },
  {
   "cell_type": "markdown",
   "metadata": {},
   "source": [
    "**Load all the Spain cities and its coordinates:**"
   ]
  },
  {
   "cell_type": "code",
   "execution_count": 3,
   "metadata": {},
   "outputs": [
    {
     "data": {
      "text/plain": [
       "['Abla', 'Abrucena', 'Adra', 'Albánchez', 'Alboloduy']"
      ]
     },
     "execution_count": 3,
     "metadata": {},
     "output_type": "execute_result"
    }
   ],
   "source": [
    "cities_file = folder_path+'\\input\\spain_cities.csv'\n",
    "df_cities = pd.read_csv(cities_file)\n",
    "\n",
    "# cities_dict[city] = (latitude, longitude)\n",
    "cities_dict = dict()\n",
    "for idx, row in df_cities.iterrows():\n",
    "    cities_dict[row['town']] = (row['latitude'], row['longitude'])\n",
    "    \n",
    "# Show a few cities in the dictionary    \n",
    "list(cities_dict.keys())[:5]"
   ]
  },
  {
   "cell_type": "code",
   "execution_count": 4,
   "metadata": {},
   "outputs": [],
   "source": [
    "def location_filter(location, cities_dict, valid_end):\n",
    "    \"\"\"\n",
    "    Returns the city the location parameter is associated to.\n",
    "    If the city cannot be identified, returns and empty string.\n",
    "    \n",
    "    Arguments:\n",
    "        location:\n",
    "            string associated with the city that it is requested to find\n",
    "        cities_dict:\n",
    "            dictionary whose keys are the valid possible cities\n",
    "        valid_end:\n",
    "            set of possible valid suffixes (ignoring punctuation marks)\n",
    "    \"\"\"\n",
    "    if location in cities_dict:\n",
    "        coord = cities_dict[location]\n",
    "        return location\n",
    "    else:\n",
    "        # Split location by any character not included below\n",
    "        # Ensure that the accents are preserved when working with Spanish texts\n",
    "        location_split  = re.split(r'[^A-ZÁÀÉÈÍÌÏÓÒÚÜa-záàéèíìïóòúùü0-9]+', location)\n",
    "\n",
    "        # Remove all empty strings\n",
    "        location_split = [location_split[i] for i in range(len(location_split)) if location_split[i] != '']\n",
    "        \n",
    "        if len(location_split) <= 1:\n",
    "            return ''\n",
    "        elif location_split[0] in cities_dict:\n",
    "            if location_split[-1] in valid_end or location_split[-1] in cities_dict:\n",
    "                coord = cities_dict[location_split[0]]\n",
    "                return location_split[0]\n",
    "            else:\n",
    "                return ''\n",
    "    return ''"
   ]
  },
  {
   "cell_type": "markdown",
   "metadata": {},
   "source": [
    "**Load all the valid ends of a user location:**"
   ]
  },
  {
   "cell_type": "code",
   "execution_count": 5,
   "metadata": {},
   "outputs": [
    {
     "data": {
      "text/plain": [
       "{'Andalucía',\n",
       " 'Aragón',\n",
       " 'Asturias',\n",
       " 'Canarias',\n",
       " 'Cantabria',\n",
       " 'Castilla y León',\n",
       " 'Castilla-La Mancha ',\n",
       " 'Catalunya',\n",
       " 'Cataluña',\n",
       " 'Ceuta',\n",
       " 'Comunidad Valenciana',\n",
       " 'Comunidad de Madrid',\n",
       " 'Comunitat Valenciana',\n",
       " 'España',\n",
       " 'Euskadi',\n",
       " 'Extremadura',\n",
       " 'Galicia',\n",
       " 'Galiza',\n",
       " 'Islas Baleares',\n",
       " 'Islas Canarias',\n",
       " 'La Rioja',\n",
       " 'Melilla',\n",
       " 'Navarra',\n",
       " 'País Vasco',\n",
       " 'Principado de Asturias',\n",
       " 'Región de Murcia',\n",
       " 'Spain'}"
      ]
     },
     "execution_count": 5,
     "metadata": {},
     "output_type": "execute_result"
    }
   ],
   "source": [
    "valid_end = set()\n",
    "\n",
    "file_name = folder_path+\"/input/valid_ends.txt\"\n",
    "f = codecs.open(file_name, 'r', encoding='utf8')\n",
    "\n",
    "city = f.readline()\n",
    "while city != 'END':\n",
    "    valid_end.add(city[:-2])\n",
    "    city = f.readline()\n",
    "f.close()\n",
    "\n",
    "valid_end"
   ]
  },
  {
   "cell_type": "code",
   "execution_count": 6,
   "metadata": {},
   "outputs": [
    {
     "data": {
      "text/plain": [
       "'Madrid'"
      ]
     },
     "execution_count": 6,
     "metadata": {},
     "output_type": "execute_result"
    }
   ],
   "source": [
    "# Test\n",
    "location = \"Madrid, Spain\"\n",
    "location_filter(location, cities_dict, valid_end)"
   ]
  },
  {
   "cell_type": "markdown",
   "metadata": {},
   "source": [
    "## 2. Set up our crawler"
   ]
  },
  {
   "cell_type": "code",
   "execution_count": 7,
   "metadata": {},
   "outputs": [],
   "source": [
    "class Listener(tweepy.streaming.StreamListener):\n",
    "    \"\"\"\n",
    "    Twitter crawler for tweet streaming.\n",
    "    \"\"\"\n",
    "    def __init__(self, cities_dict, valid_end, cities_filter_function, max_minutes, \\\n",
    "                                             json_tweets_file, max_tweets=None, api=None):\n",
    "        \"\"\"\n",
    "        Arguments:\n",
    "            cities_dict:\n",
    "                dictionary whose keys are the valid cities\n",
    "                from which we can get tweets.\n",
    "            valid_end:\n",
    "                set of possible valid suffixes (ignoring punctuation marks).\n",
    "            cities_filter_function:\n",
    "                returns the city the location parameter is associated to. \n",
    "                If the location cannot be processed or it is not valid, \n",
    "                returns an empty string.\n",
    "            max_minutes:\n",
    "                maximum number of minutes streaming tweets.\n",
    "            max_tweets:\n",
    "                maximum number of tweets to stream.\n",
    "            json_tweets_file:\n",
    "                file to store the streamed tweets.\n",
    "            api:\n",
    "                attribute of the parent class. It won't be used in this code.\n",
    "        \"\"\"\n",
    "        super(tweepy.streaming.StreamListener, self).__init__()\n",
    "        self.cities_dict = cities_dict\n",
    "        self.valid_end = valid_end\n",
    "        self.cities_filter_function = cities_filter_function\n",
    "        self.num_tweets = 0 # Current read tweets\n",
    "        self.max_tweets = max_tweets\n",
    "        self.time_limit = time.time() + max_minutes*60\n",
    "        self.json_tweets_file = json_tweets_file\n",
    "        self.api = api\n",
    "        \n",
    "    def on_data(self, data):\n",
    "        \"\"\"\n",
    "        Function called every time a tweet is streamed. If the user's location is valid\n",
    "        and can be retrieved by self.cities_filter_function, stores the tweet with its city \n",
    "        in json format in self.json_tweets_file.\n",
    "        \n",
    "        \"\"\"\n",
    "        try:\n",
    "            # Append the new tweet in the file, if location is retrived\n",
    "            with open(self.json_tweets_file, 'a') as f:\n",
    "                tweet_json = json.loads(data)\n",
    "                location = tweet_json['user']['location']\n",
    "                \n",
    "                if location != None:\n",
    "                    # Try to retrieve user's location\n",
    "                    user_location = self.cities_filter_function(location, self.cities_dict, self.valid_end)\n",
    "                    # If it could be retrieved\n",
    "                    if user_location != '':\n",
    "                        tweet_json['user_location'] = user_location\n",
    "                        f.write(json.dumps(tweet_json) + \"\\n\\n\")\n",
    "                        \n",
    "                        # Print the retrieved location. Useful for testing cities_filter_function\n",
    "                        print(location +\" -> \"+user_location)\n",
    "                        \n",
    "                        self.num_tweets += 1\n",
    "                        # If we read enough tweets our streamed for enough time, stop the exection\n",
    "                        if self.max_tweets != None and self.num_tweets >= self.max_tweets:\n",
    "                            return False\n",
    "                        if self.time_limit < time.time():\n",
    "                            return False\n",
    "                        return True\n",
    "                return True\n",
    "        # If an error occurs, stop the execution\n",
    "        except Exception as e:\n",
    "            print(type(e).__name__)\n",
    "            return True\n",
    "        \n",
    "    def on_error(self, status):\n",
    "        print('Error :', status)\n",
    "        return False"
   ]
  },
  {
   "cell_type": "code",
   "execution_count": 8,
   "metadata": {},
   "outputs": [],
   "source": [
    "# Fill your twitter developer keys and secrets\n",
    "consumer_key = ''\n",
    "consumer_secret = ''\n",
    "access_token = ''\n",
    "access_secret = ''\n",
    "\n",
    "auth = tweepy.OAuthHandler(consumer_key, consumer_secret)\n",
    "auth.set_access_token(access_token, access_secret)"
   ]
  },
  {
   "cell_type": "code",
   "execution_count": 9,
   "metadata": {},
   "outputs": [
    {
     "name": "stdout",
     "output_type": "stream",
     "text": [
      "Madrid, Comunidad de Madrid -> Madrid\n",
      "Madrid, Comunidad de Madrid -> Madrid\n",
      "Torrelodones. Madrid -> Torrelodones\n",
      "Madrid -> Madrid\n",
      "Madrid -> Madrid\n",
      "Madrid -> Madrid\n",
      "Barcelona y Sitges -> Barcelona\n",
      "Valencia (Spain) -> Valencia\n",
      "Madrid -> Madrid\n",
      "Madrid -> Madrid\n",
      "Valencia, Spain -> Valencia\n",
      "Murcia, Región de Murcia -> Murcia\n",
      "Madrid, forever Madrid.. -> Madrid\n",
      "Córdoba -> Córdoba\n",
      "Madrid, Comunidad de Madrid -> Madrid\n",
      "Badajoz -> Badajoz\n",
      "Valencia -> Valencia\n",
      "San Bartolomé de Tirajana -> San Bartolomé de Tirajana\n",
      "Madrid -> Madrid\n",
      "Madrid, Comunidad de Madrid -> Madrid\n",
      "Madrid, Comunidad de Madrid -> Madrid\n",
      "Badajoz -> Badajoz\n",
      "Córdoba -> Córdoba\n",
      "Madrid -> Madrid\n",
      "Madrid -> Madrid\n",
      "San Bartolomé de Tirajana -> San Bartolomé de Tirajana\n",
      "Salamanca -> Salamanca\n",
      "Madrid -> Madrid\n",
      "Cádiz-Tenerife-Cádiz-Madrid -> Cádiz\n",
      "Madrid -> Madrid\n",
      "Madrid, Comunidad de Madrid -> Madrid\n",
      "Madrid -> Madrid\n",
      "Córdoba, Andalucía -> Córdoba\n",
      "Madrid -> Madrid\n",
      "Madrid, Comunidad de Madrid -> Madrid\n",
      "Cádiz-Tenerife-Cádiz-Madrid -> Cádiz\n",
      "Madrid -> Madrid\n",
      "Madrid -> Madrid\n",
      "Madrid, Comunidad de Madrid -> Madrid\n",
      "Madrid, Comunidad de Madrid -> Madrid\n",
      "Berriozar-Pamplona (Navarra) -> Berriozar\n",
      "Madrid -> Madrid\n",
      "Valencia (Spain) -> Valencia\n",
      "Madrid, Comunidad de Madrid -> Madrid\n",
      "Campaspero - Valladolid -> Campaspero\n",
      "Barcelona -> Barcelona\n",
      "Madrid, Comunidad de Madrid -> Madrid\n",
      "Valencia -> Valencia\n",
      "Valencia -> Valencia\n",
      "Madrid, Comunidad de Madrid  -> Madrid\n",
      "Torrent -> Torrent\n",
      "Almería & Madrid (Spain) -> Almería\n",
      "Madrid, Comunidad de Madrid -> Madrid\n",
      "Madrid, Comunidad de Madrid -> Madrid\n",
      "Madrid, Comunidad de Madrid -> Madrid\n",
      "Valencia -> Valencia\n",
      "Madrid, Comunidad de Madrid -> Madrid\n",
      "Madrid -> Madrid\n",
      "Madrid -> Madrid\n",
      "Madrid -> Madrid\n",
      "Leganés -> Leganés\n",
      "Móstoles -> Móstoles\n",
      "Madrid, Comunidad de Madrid -> Madrid\n",
      "Sevilla, Andalucía -> Sevilla\n",
      "Madrid -> Madrid\n",
      "Madrid -> Madrid\n",
      "Madrid -> Madrid\n",
      "Madrid -> Madrid\n",
      "Sevilla, Andalucía -> Sevilla\n",
      "Getafe -> Getafe\n",
      "Madrid -> Madrid\n",
      "Córdoba -> Córdoba\n",
      "Moralzarzal -> Moralzarzal\n",
      "Madrid, Comunidad de Madrid -> Madrid\n",
      "Madrid, Comunidad de Madrid -> Madrid\n",
      "Madrid -> Madrid\n",
      "Barcelona -> Barcelona\n",
      "Barcelona, Catalunya. -> Barcelona\n",
      "Miengo- Cantabria  -> Miengo\n",
      "Madrid -> Madrid\n",
      "Palma, Spain -> Palma\n",
      "Madrid -> Madrid\n",
      "Córdoba -> Córdoba\n",
      "Madrid, Spain -> Madrid\n",
      "Madrid/Valladolid -> Madrid\n",
      "Jumilla, Murcia -> Jumilla\n",
      "Barcelona -> Barcelona\n",
      "Madrid, Comunidad de Madrid -> Madrid\n",
      "Madrid, Comunidad de Madrid -> Madrid\n",
      "Madrid -> Madrid\n",
      "Corcubión -> Corcubión\n",
      "Barcelona -> Barcelona\n",
      "Madrid, Comunidad de Madrid -> Madrid\n",
      "Madrid -> Madrid\n",
      "Barcelona -> Barcelona\n",
      "Madrid - Alcobendas -> Madrid\n",
      "Bilbao -> Bilbao\n",
      "Leganés 📍 Almorox 🏡 -> Leganés\n",
      "Barcelona -> Barcelona\n",
      "Madrid -> Madrid\n",
      "Madrid -> Madrid\n",
      "Fuenlabrada -> Fuenlabrada\n",
      "Madrid -> Madrid\n",
      "Madrid -> Madrid\n",
      "Córdoba, Andalucía -> Córdoba\n",
      "Madrid/Mérida -> Madrid\n",
      "Madrid, Comunidad de Madrid -> Madrid\n",
      "Oviedo -> Oviedo\n",
      "Arganda del Rey -> Arganda del Rey\n",
      "Ciudad Real -> Ciudad Real\n",
      "Madrid-Zaragoza -> Madrid\n",
      "Sevilla -> Sevilla\n",
      "Madrid, Spain -> Madrid\n",
      "Madrid, Comunidad de Madrid -> Madrid\n",
      "Madrid -> Madrid\n",
      "Madrid, Comunidad de Madrid -> Madrid\n",
      "Madrid -> Madrid\n",
      "Barcelona,Spain. -> Barcelona\n",
      "Córdoba -> Córdoba\n",
      "Vigo -> Vigo\n",
      "Madrid, Comunidad de Madrid -> Madrid\n",
      "Pozuelo de Alarcón (Madrid) -> Pozuelo\n",
      "Salamanca -> Salamanca\n",
      "Logroño -> Logroño\n",
      "Madrid -> Madrid\n",
      "Barcelona -> Barcelona\n",
      "Madrid -> Madrid\n",
      "Barcelona -> Barcelona\n",
      "Madrid, Comunidad de Madrid -> Madrid\n",
      "Ciudad Real -> Ciudad Real\n",
      "Barcelona -> Barcelona\n",
      "Madrid, Spain -> Madrid\n",
      "Madrid -> Madrid\n",
      "Madrid -> Madrid\n",
      "Madrid -> Madrid\n",
      "Madrid -> Madrid\n",
      "Pontevedra, Galicia -> Pontevedra\n",
      "Madrid -> Madrid\n",
      "Madrid, Spain -> Madrid\n",
      "Móstoles -> Móstoles\n",
      "Albacete -> Albacete\n",
      "_______ End _______\n"
     ]
    }
   ],
   "source": [
    "# Set your keywords for the search\n",
    "keywords = [\"madrid\"]\n",
    "# New folder name: keyword1_keyword2_..._keywordN_DAY-MONTH-YEAR_HOUR.MINUTE.SECOND.jsonl\n",
    "now = datetime.now()\n",
    "dt_string = now.strftime(\"%d-%m-%Y_%H.%M.%S\")\n",
    "output_folder = folder_path+'/output/'+'_'.join(keywords)+'_'+dt_string\n",
    "os.mkdir(output_folder)\n",
    "# File name: keyword1_keyword2_..._keywordN.jsonl\n",
    "# It will contain the tweets in json format\n",
    "json_tweets_file = output_folder+'/'+'_'.join(keywords)+'.jsonl'\n",
    "\n",
    "# Execution time\n",
    "max_minutes = 5\n",
    "twitter_stream = tweepy.streaming.Stream(auth, Listener(cities_dict=cities_dict, valid_end=valid_end, cities_filter_function=location_filter, max_minutes=max_minutes, json_tweets_file = json_tweets_file))\n",
    "# Filter for the given keywords in Spanish tweets\n",
    "twitter_stream.filter(track=keywords, languages=['es']) \n",
    "\n",
    "print('_______ End _______')"
   ]
  },
  {
   "cell_type": "markdown",
   "metadata": {},
   "source": [
    "## 3. Process the stored data"
   ]
  },
  {
   "cell_type": "markdown",
   "metadata": {},
   "source": [
    "**Load the stored tweets in a pandas Dataframe:**"
   ]
  },
  {
   "cell_type": "code",
   "execution_count": 10,
   "metadata": {},
   "outputs": [
    {
     "data": {
      "text/html": [
       "<div>\n",
       "<style scoped>\n",
       "    .dataframe tbody tr th:only-of-type {\n",
       "        vertical-align: middle;\n",
       "    }\n",
       "\n",
       "    .dataframe tbody tr th {\n",
       "        vertical-align: top;\n",
       "    }\n",
       "\n",
       "    .dataframe thead th {\n",
       "        text-align: right;\n",
       "    }\n",
       "</style>\n",
       "<table border=\"1\" class=\"dataframe\">\n",
       "  <thead>\n",
       "    <tr style=\"text-align: right;\">\n",
       "      <th></th>\n",
       "      <th>contributors</th>\n",
       "      <th>coordinates</th>\n",
       "      <th>created_at</th>\n",
       "      <th>display_text_range</th>\n",
       "      <th>entities</th>\n",
       "      <th>extended_entities</th>\n",
       "      <th>extended_tweet</th>\n",
       "      <th>favorite_count</th>\n",
       "      <th>favorited</th>\n",
       "      <th>filter_level</th>\n",
       "      <th>...</th>\n",
       "      <th>reply_count</th>\n",
       "      <th>retweet_count</th>\n",
       "      <th>retweeted</th>\n",
       "      <th>retweeted_status</th>\n",
       "      <th>source</th>\n",
       "      <th>text</th>\n",
       "      <th>timestamp_ms</th>\n",
       "      <th>truncated</th>\n",
       "      <th>user</th>\n",
       "      <th>user_location</th>\n",
       "    </tr>\n",
       "  </thead>\n",
       "  <tbody>\n",
       "    <tr>\n",
       "      <th>0</th>\n",
       "      <td>NaN</td>\n",
       "      <td>None</td>\n",
       "      <td>2021-04-13 18:14:17</td>\n",
       "      <td>NaN</td>\n",
       "      <td>{'hashtags': [], 'urls': [], 'user_mentions': ...</td>\n",
       "      <td>NaN</td>\n",
       "      <td>NaN</td>\n",
       "      <td>0</td>\n",
       "      <td>False</td>\n",
       "      <td>low</td>\n",
       "      <td>...</td>\n",
       "      <td>0</td>\n",
       "      <td>0</td>\n",
       "      <td>False</td>\n",
       "      <td>{'created_at': 'Tue Apr 13 15:25:00 +0000 2021...</td>\n",
       "      <td>&lt;a href=\"http://twitter.com/download/android\" ...</td>\n",
       "      <td>RT @_MADtime: El @TeatroLara acoge 'Solitarias...</td>\n",
       "      <td>2021-04-13 18:14:17.505</td>\n",
       "      <td>False</td>\n",
       "      <td>{'id': 313545233, 'id_str': '313545233', 'name...</td>\n",
       "      <td>Madrid</td>\n",
       "    </tr>\n",
       "    <tr>\n",
       "      <th>1</th>\n",
       "      <td>NaN</td>\n",
       "      <td>None</td>\n",
       "      <td>2021-04-13 18:14:18</td>\n",
       "      <td>NaN</td>\n",
       "      <td>{'hashtags': [], 'urls': [], 'user_mentions': ...</td>\n",
       "      <td>NaN</td>\n",
       "      <td>NaN</td>\n",
       "      <td>0</td>\n",
       "      <td>False</td>\n",
       "      <td>low</td>\n",
       "      <td>...</td>\n",
       "      <td>0</td>\n",
       "      <td>0</td>\n",
       "      <td>False</td>\n",
       "      <td>{'created_at': 'Tue Apr 13 18:11:29 +0000 2021...</td>\n",
       "      <td>&lt;a href=\"http://twitter.com/download/iphone\" r...</td>\n",
       "      <td>RT @Espacio_Pub: Llamamiento para \"conseguir q...</td>\n",
       "      <td>2021-04-13 18:14:18.161</td>\n",
       "      <td>False</td>\n",
       "      <td>{'id': 304915745, 'id_str': '304915745', 'name...</td>\n",
       "      <td>Madrid</td>\n",
       "    </tr>\n",
       "    <tr>\n",
       "      <th>2</th>\n",
       "      <td>NaN</td>\n",
       "      <td>None</td>\n",
       "      <td>2021-04-13 18:14:19</td>\n",
       "      <td>[50, 140]</td>\n",
       "      <td>{'hashtags': [], 'urls': [{'url': 'https://t.c...</td>\n",
       "      <td>NaN</td>\n",
       "      <td>{'full_text': '@LeoooDC @gabriel_deck @RMBalon...</td>\n",
       "      <td>0</td>\n",
       "      <td>False</td>\n",
       "      <td>low</td>\n",
       "      <td>...</td>\n",
       "      <td>0</td>\n",
       "      <td>0</td>\n",
       "      <td>False</td>\n",
       "      <td>NaN</td>\n",
       "      <td>&lt;a href=\"http://twitter.com/#!/download/ipad\" ...</td>\n",
       "      <td>@LeoooDC @gabriel_deck @RMBaloncesto @teamtort...</td>\n",
       "      <td>2021-04-13 18:14:19.136</td>\n",
       "      <td>True</td>\n",
       "      <td>{'id': 1765333609, 'id_str': '1765333609', 'na...</td>\n",
       "      <td>Torrelodones</td>\n",
       "    </tr>\n",
       "    <tr>\n",
       "      <th>3</th>\n",
       "      <td>NaN</td>\n",
       "      <td>None</td>\n",
       "      <td>2021-04-13 18:14:20</td>\n",
       "      <td>NaN</td>\n",
       "      <td>{'hashtags': [], 'urls': [], 'user_mentions': ...</td>\n",
       "      <td>NaN</td>\n",
       "      <td>NaN</td>\n",
       "      <td>0</td>\n",
       "      <td>False</td>\n",
       "      <td>low</td>\n",
       "      <td>...</td>\n",
       "      <td>0</td>\n",
       "      <td>0</td>\n",
       "      <td>False</td>\n",
       "      <td>{'created_at': 'Mon Apr 12 18:41:45 +0000 2021...</td>\n",
       "      <td>&lt;a href=\"https://about.twitter.com/products/tw...</td>\n",
       "      <td>RT @rafaruizmad: Este es el nuevo modelo de pl...</td>\n",
       "      <td>2021-04-13 18:14:20.630</td>\n",
       "      <td>False</td>\n",
       "      <td>{'id': 16718844, 'id_str': '16718844', 'name':...</td>\n",
       "      <td>Madrid</td>\n",
       "    </tr>\n",
       "    <tr>\n",
       "      <th>4</th>\n",
       "      <td>NaN</td>\n",
       "      <td>None</td>\n",
       "      <td>2021-04-13 18:14:21</td>\n",
       "      <td>NaN</td>\n",
       "      <td>{'hashtags': [], 'urls': [], 'user_mentions': ...</td>\n",
       "      <td>NaN</td>\n",
       "      <td>NaN</td>\n",
       "      <td>0</td>\n",
       "      <td>False</td>\n",
       "      <td>low</td>\n",
       "      <td>...</td>\n",
       "      <td>0</td>\n",
       "      <td>0</td>\n",
       "      <td>False</td>\n",
       "      <td>{'created_at': 'Tue Apr 13 18:12:19 +0000 2021...</td>\n",
       "      <td>&lt;a href=\"http://twitter.com/download/android\" ...</td>\n",
       "      <td>RT @jopela2: El pueblo madrileño ha soportado ...</td>\n",
       "      <td>2021-04-13 18:14:21.303</td>\n",
       "      <td>False</td>\n",
       "      <td>{'id': 4156102535, 'id_str': '4156102535', 'na...</td>\n",
       "      <td>Madrid</td>\n",
       "    </tr>\n",
       "  </tbody>\n",
       "</table>\n",
       "<p>5 rows × 37 columns</p>\n",
       "</div>"
      ],
      "text/plain": [
       "   contributors coordinates          created_at display_text_range  \\\n",
       "0           NaN        None 2021-04-13 18:14:17                NaN   \n",
       "1           NaN        None 2021-04-13 18:14:18                NaN   \n",
       "2           NaN        None 2021-04-13 18:14:19          [50, 140]   \n",
       "3           NaN        None 2021-04-13 18:14:20                NaN   \n",
       "4           NaN        None 2021-04-13 18:14:21                NaN   \n",
       "\n",
       "                                            entities extended_entities  \\\n",
       "0  {'hashtags': [], 'urls': [], 'user_mentions': ...               NaN   \n",
       "1  {'hashtags': [], 'urls': [], 'user_mentions': ...               NaN   \n",
       "2  {'hashtags': [], 'urls': [{'url': 'https://t.c...               NaN   \n",
       "3  {'hashtags': [], 'urls': [], 'user_mentions': ...               NaN   \n",
       "4  {'hashtags': [], 'urls': [], 'user_mentions': ...               NaN   \n",
       "\n",
       "                                      extended_tweet  favorite_count  \\\n",
       "0                                                NaN               0   \n",
       "1                                                NaN               0   \n",
       "2  {'full_text': '@LeoooDC @gabriel_deck @RMBalon...               0   \n",
       "3                                                NaN               0   \n",
       "4                                                NaN               0   \n",
       "\n",
       "   favorited filter_level      ...      reply_count  retweet_count  retweeted  \\\n",
       "0      False          low      ...                0              0      False   \n",
       "1      False          low      ...                0              0      False   \n",
       "2      False          low      ...                0              0      False   \n",
       "3      False          low      ...                0              0      False   \n",
       "4      False          low      ...                0              0      False   \n",
       "\n",
       "                                    retweeted_status  \\\n",
       "0  {'created_at': 'Tue Apr 13 15:25:00 +0000 2021...   \n",
       "1  {'created_at': 'Tue Apr 13 18:11:29 +0000 2021...   \n",
       "2                                                NaN   \n",
       "3  {'created_at': 'Mon Apr 12 18:41:45 +0000 2021...   \n",
       "4  {'created_at': 'Tue Apr 13 18:12:19 +0000 2021...   \n",
       "\n",
       "                                              source  \\\n",
       "0  <a href=\"http://twitter.com/download/android\" ...   \n",
       "1  <a href=\"http://twitter.com/download/iphone\" r...   \n",
       "2  <a href=\"http://twitter.com/#!/download/ipad\" ...   \n",
       "3  <a href=\"https://about.twitter.com/products/tw...   \n",
       "4  <a href=\"http://twitter.com/download/android\" ...   \n",
       "\n",
       "                                                text            timestamp_ms  \\\n",
       "0  RT @_MADtime: El @TeatroLara acoge 'Solitarias... 2021-04-13 18:14:17.505   \n",
       "1  RT @Espacio_Pub: Llamamiento para \"conseguir q... 2021-04-13 18:14:18.161   \n",
       "2  @LeoooDC @gabriel_deck @RMBaloncesto @teamtort... 2021-04-13 18:14:19.136   \n",
       "3  RT @rafaruizmad: Este es el nuevo modelo de pl... 2021-04-13 18:14:20.630   \n",
       "4  RT @jopela2: El pueblo madrileño ha soportado ... 2021-04-13 18:14:21.303   \n",
       "\n",
       "   truncated                                               user user_location  \n",
       "0      False  {'id': 313545233, 'id_str': '313545233', 'name...        Madrid  \n",
       "1      False  {'id': 304915745, 'id_str': '304915745', 'name...        Madrid  \n",
       "2       True  {'id': 1765333609, 'id_str': '1765333609', 'na...  Torrelodones  \n",
       "3      False  {'id': 16718844, 'id_str': '16718844', 'name':...        Madrid  \n",
       "4      False  {'id': 4156102535, 'id_str': '4156102535', 'na...        Madrid  \n",
       "\n",
       "[5 rows x 37 columns]"
      ]
     },
     "execution_count": 10,
     "metadata": {},
     "output_type": "execute_result"
    }
   ],
   "source": [
    "df = pd.read_json(json_tweets_file, lines=True)\n",
    "df.head()"
   ]
  },
  {
   "cell_type": "markdown",
   "metadata": {},
   "source": [
    "### 3.1 Normalize the tweets"
   ]
  },
  {
   "cell_type": "code",
   "execution_count": 11,
   "metadata": {},
   "outputs": [],
   "source": [
    "def normalize(text):\n",
    "    \"\"\"\n",
    "    Remove all the emojis, accents, undesired characters\n",
    "    in a string and convert it to lowercase.\n",
    "    \n",
    "    Arguments:\n",
    "        text:\n",
    "            string to normalize.\n",
    "    \"\"\"\n",
    "    # Delete emojis\n",
    "    text = re.sub(emoji.get_emoji_regexp(), r' ', text)\n",
    "    # Delete accents. With this approach we can keep the 'ñ' char, common in Spanish\n",
    "    text = text.lower()\n",
    "    original_char = 'ÁÀÉÈÍÌÏÓÒÚÙÜáàéèíìïóòúùü'\n",
    "    new_char = 'AAEEIIIOOUUUaaeeiioouuu'\n",
    "    \n",
    "    for original, new in zip(original_char, new_char):\n",
    "        text = text.replace(original, new)\n",
    "    \n",
    "    # Delete all the chars not included below. Transform it to lowercase\n",
    "    text = re.sub(r'[^A-ZÑa-zñ0-9_ ]+', ' ', text).lower()\n",
    "    \n",
    "    return text"
   ]
  },
  {
   "cell_type": "markdown",
   "metadata": {},
   "source": [
    "**See some of the original tweets to compare them with the normalized ones:**"
   ]
  },
  {
   "cell_type": "code",
   "execution_count": 12,
   "metadata": {},
   "outputs": [
    {
     "data": {
      "text/plain": [
       "0    RT @_MADtime: El @TeatroLara acoge 'Solitarias...\n",
       "1    RT @Espacio_Pub: Llamamiento para \"conseguir q...\n",
       "2    @LeoooDC @gabriel_deck @RMBaloncesto @teamtort...\n",
       "3    RT @rafaruizmad: Este es el nuevo modelo de pl...\n",
       "4    RT @jopela2: El pueblo madrileño ha soportado ...\n",
       "Name: text, dtype: object"
      ]
     },
     "execution_count": 12,
     "metadata": {},
     "output_type": "execute_result"
    }
   ],
   "source": [
    "df['text'].head()"
   ]
  },
  {
   "cell_type": "markdown",
   "metadata": {},
   "source": [
    "**Normalize the tweets:**"
   ]
  },
  {
   "cell_type": "code",
   "execution_count": 13,
   "metadata": {},
   "outputs": [
    {
     "data": {
      "text/plain": [
       "0    rt  _madtime  el  teatrolara acoge  solitarias...\n",
       "1    rt  espacio_pub  llamamiento para  conseguir q...\n",
       "2     leooodc  gabriel_deck  rmbaloncesto  teamtort...\n",
       "3    rt  rafaruizmad  este es el nuevo modelo de pl...\n",
       "4    rt  jopela2  el pueblo madrileño ha soportado ...\n",
       "Name: text_normalized, dtype: object"
      ]
     },
     "execution_count": 13,
     "metadata": {},
     "output_type": "execute_result"
    }
   ],
   "source": [
    "df['text_normalized'] = df['text'].apply(normalize)\n",
    "df['text_normalized'].head()"
   ]
  },
  {
   "cell_type": "markdown",
   "metadata": {},
   "source": [
    "### 3.2 Compute the list of words of each tweet"
   ]
  },
  {
   "cell_type": "code",
   "execution_count": 14,
   "metadata": {},
   "outputs": [],
   "source": [
    "def text_to_words(text, stopwords_set, min_size):\n",
    "    \"\"\"\n",
    "    Return all the words in a string that aren't stopwords and\n",
    "    that are at least as large as the specified size.\n",
    "    \n",
    "    Arguments:\n",
    "        text:\n",
    "            string whose words we are interested in.\n",
    "        stopwords_set:\n",
    "            set of stopwords.\n",
    "        min_size:\n",
    "            minimum size of a word to be returned.\n",
    "    \"\"\"\n",
    "    words = text.split()\n",
    "    words = [word for word in words if word != '' and len(word) >= MIN_SIZE and word not in stopwords_set]\n",
    "    return words"
   ]
  },
  {
   "cell_type": "code",
   "execution_count": 15,
   "metadata": {},
   "outputs": [
    {
     "data": {
      "text/plain": [
       "0    [_madtime, teatrolara, acoge, solitarias, estr...\n",
       "1    [espacio_pub, llamamiento, conseguir, derecha,...\n",
       "2    [leooodc, gabriel_deck, rmbaloncesto, teamtort...\n",
       "3    [rafaruizmad, nuevo, modelo, plaza, ayto, madr...\n",
       "4    [jopela2, pueblo, madrileño, soportado, pesima...\n",
       "Name: text_words, dtype: object"
      ]
     },
     "execution_count": 15,
     "metadata": {},
     "output_type": "execute_result"
    }
   ],
   "source": [
    "# Stopwords are the words that we want to delete from all tweets\n",
    "STOPWORDS = set(stopwords.words('spanish') + [\"rt\", \"http\", \"https\", \"co\", \"com\", \"es\"])\n",
    "# Minimum size of a word to be stored\n",
    "MIN_SIZE = 2\n",
    "\n",
    "df['text_words'] = df['text_normalized'].apply(lambda text: text_to_words(text, STOPWORDS, MIN_SIZE))\n",
    "df['text_words'].head()"
   ]
  },
  {
   "cell_type": "markdown",
   "metadata": {},
   "source": [
    "### 3.2 Compute the list of bigrams of each tweet"
   ]
  },
  {
   "cell_type": "code",
   "execution_count": 16,
   "metadata": {},
   "outputs": [
    {
     "data": {
      "text/plain": [
       "0    [(_madtime, teatrolara), (teatrolara, acoge), ...\n",
       "1    [(espacio_pub, llamamiento), (llamamiento, con...\n",
       "2    [(leooodc, gabriel_deck), (gabriel_deck, rmbal...\n",
       "3    [(rafaruizmad, nuevo), (nuevo, modelo), (model...\n",
       "4    [(jopela2, pueblo), (pueblo, madrileño), (madr...\n",
       "Name: text_bigrams, dtype: object"
      ]
     },
     "execution_count": 16,
     "metadata": {},
     "output_type": "execute_result"
    }
   ],
   "source": [
    "df['text_bigrams'] = df['text_words'].apply(lambda text: list(ngrams(text,2)))\n",
    "df['text_bigrams'].head()"
   ]
  },
  {
   "cell_type": "markdown",
   "metadata": {},
   "source": [
    "### 3.3 Compute the top used words per location"
   ]
  },
  {
   "cell_type": "code",
   "execution_count": 17,
   "metadata": {},
   "outputs": [
    {
     "data": {
      "text/html": [
       "<div>\n",
       "<style scoped>\n",
       "    .dataframe tbody tr th:only-of-type {\n",
       "        vertical-align: middle;\n",
       "    }\n",
       "\n",
       "    .dataframe tbody tr th {\n",
       "        vertical-align: top;\n",
       "    }\n",
       "\n",
       "    .dataframe thead th {\n",
       "        text-align: right;\n",
       "    }\n",
       "</style>\n",
       "<table border=\"1\" class=\"dataframe\">\n",
       "  <thead>\n",
       "    <tr style=\"text-align: right;\">\n",
       "      <th></th>\n",
       "      <th>text_words</th>\n",
       "      <th>text_bigrams</th>\n",
       "    </tr>\n",
       "    <tr>\n",
       "      <th>user_location</th>\n",
       "      <th></th>\n",
       "      <th></th>\n",
       "    </tr>\n",
       "  </thead>\n",
       "  <tbody>\n",
       "    <tr>\n",
       "      <th>Albacete</th>\n",
       "      <td>[publico_es, datos, desmienten, ayuso, madrid,...</td>\n",
       "      <td>[(publico_es, datos), (datos, desmienten), (de...</td>\n",
       "    </tr>\n",
       "    <tr>\n",
       "      <th>Almería</th>\n",
       "      <td>[luciaguerras, humor, boomer, traido, consecue...</td>\n",
       "      <td>[(luciaguerras, humor), (humor, boomer), (boom...</td>\n",
       "    </tr>\n",
       "    <tr>\n",
       "      <th>Arganda del Rey</th>\n",
       "      <td>[raquelggc, rosaura, cambia, coche, gps, o9pq5...</td>\n",
       "      <td>[(raquelggc, rosaura), (rosaura, cambia), (cam...</td>\n",
       "    </tr>\n",
       "    <tr>\n",
       "      <th>Badajoz</th>\n",
       "      <td>[vox_es, vox, españoles, volveran, ser, ultimo...</td>\n",
       "      <td>[(vox_es, vox), (vox, españoles), (españoles, ...</td>\n",
       "    </tr>\n",
       "    <tr>\n",
       "      <th>Barcelona</th>\n",
       "      <td>[eduardoinda, sanchez, confirma, hachazo, fisc...</td>\n",
       "      <td>[(eduardoinda, sanchez), (sanchez, confirma), ...</td>\n",
       "    </tr>\n",
       "  </tbody>\n",
       "</table>\n",
       "</div>"
      ],
      "text/plain": [
       "                                                        text_words  \\\n",
       "user_location                                                        \n",
       "Albacete         [publico_es, datos, desmienten, ayuso, madrid,...   \n",
       "Almería          [luciaguerras, humor, boomer, traido, consecue...   \n",
       "Arganda del Rey  [raquelggc, rosaura, cambia, coche, gps, o9pq5...   \n",
       "Badajoz          [vox_es, vox, españoles, volveran, ser, ultimo...   \n",
       "Barcelona        [eduardoinda, sanchez, confirma, hachazo, fisc...   \n",
       "\n",
       "                                                      text_bigrams  \n",
       "user_location                                                       \n",
       "Albacete         [(publico_es, datos), (datos, desmienten), (de...  \n",
       "Almería          [(luciaguerras, humor), (humor, boomer), (boom...  \n",
       "Arganda del Rey  [(raquelggc, rosaura), (rosaura, cambia), (cam...  \n",
       "Badajoz          [(vox_es, vox), (vox, españoles), (españoles, ...  \n",
       "Barcelona        [(eduardoinda, sanchez), (sanchez, confirma), ...  "
      ]
     },
     "execution_count": 17,
     "metadata": {},
     "output_type": "execute_result"
    }
   ],
   "source": [
    "df_wb = df[['text_words', 'text_bigrams', 'user_location']]\n",
    "df_wb = df_wb.groupby('user_location').sum()\n",
    "df_wb.head()"
   ]
  },
  {
   "cell_type": "code",
   "execution_count": 18,
   "metadata": {},
   "outputs": [
    {
     "data": {
      "text/plain": [
       "user_location\n",
       "Albacete           [(publico_es, 1), (datos, 1), (desmienten, 1),...\n",
       "Almería            [(luciaguerras, 1), (humor, 1), (boomer, 1), (...\n",
       "Arganda del Rey    [(raquelggc, 1), (rosaura, 1), (cambia, 1), (c...\n",
       "Badajoz            [(madrid, 3), (vox_es, 2), (vox, 2), (españole...\n",
       "Barcelona          [(madrid, 8), (eugenio, 2), (martinez, 2), (br...\n",
       "Name: top_words, dtype: object"
      ]
     },
     "execution_count": 18,
     "metadata": {},
     "output_type": "execute_result"
    }
   ],
   "source": [
    "# Number of words to be shown per city\n",
    "TOP = 5\n",
    "# Compute the TOP words more used per city\n",
    "df_wb['top_words'] = df_wb['text_words'].apply(lambda words: Counter(words).most_common(TOP))\n",
    "df_wb['top_words'].head()"
   ]
  },
  {
   "cell_type": "markdown",
   "metadata": {},
   "source": [
    "### 3.4 Compute the top used bigrams per location"
   ]
  },
  {
   "cell_type": "code",
   "execution_count": 19,
   "metadata": {},
   "outputs": [
    {
     "data": {
      "text/plain": [
       "user_location\n",
       "Albacete           [((publico_es, datos), 1), ((datos, desmienten...\n",
       "Almería            [((luciaguerras, humor), 1), ((humor, boomer),...\n",
       "Arganda del Rey    [((raquelggc, rosaura), 1), ((rosaura, cambia)...\n",
       "Badajoz            [((vox_es, vox), 2), ((vox, españoles), 1), ((...\n",
       "Barcelona          [((eugenio, martinez), 2), ((martinez, bravo),...\n",
       "Name: text_bigrams, dtype: object"
      ]
     },
     "execution_count": 19,
     "metadata": {},
     "output_type": "execute_result"
    }
   ],
   "source": [
    "TOP = 5\n",
    "df_wb['text_bigrams'] = df_wb['text_bigrams'].apply(lambda bigrams: Counter(bigrams).most_common(TOP))\n",
    "df_wb['text_bigrams'].head()"
   ]
  },
  {
   "cell_type": "markdown",
   "metadata": {},
   "source": [
    "### 3.5 Compute general stats"
   ]
  },
  {
   "cell_type": "markdown",
   "metadata": {},
   "source": [
    "#### 3.5.1 Counter of tweets per city"
   ]
  },
  {
   "cell_type": "code",
   "execution_count": 20,
   "metadata": {},
   "outputs": [
    {
     "data": {
      "text/plain": [
       "Madrid       77\n",
       "Barcelona    12\n",
       "Valencia      7\n",
       "Córdoba       7\n",
       "Sevilla       3\n",
       "Name: user_location, dtype: int64"
      ]
     },
     "execution_count": 20,
     "metadata": {},
     "output_type": "execute_result"
    }
   ],
   "source": [
    "users_per_location = df['user_location'].value_counts()\n",
    "users_per_location.head()"
   ]
  },
  {
   "cell_type": "markdown",
   "metadata": {},
   "source": [
    "#### 3.5.2 Top used words without regarding the location"
   ]
  },
  {
   "cell_type": "code",
   "execution_count": 21,
   "metadata": {},
   "outputs": [],
   "source": [
    "words_freq = dict()\n",
    "\n",
    "for location, row in df_wb.iterrows():\n",
    "    for word, ctr in row['top_words']:\n",
    "        if word not in words_freq:\n",
    "            words_freq[word] = ctr\n",
    "        else:\n",
    "            words_freq[word] += ctr"
   ]
  },
  {
   "cell_type": "code",
   "execution_count": 22,
   "metadata": {},
   "outputs": [
    {
     "name": "stdout",
     "output_type": "stream",
     "text": [
      "[('madrid', 80), ('mas', 19), ('ayuso', 14), ('ifema', 13), ('real', 11), ('elchiringuitotv', 4), ('exclusinda', 4), ('inda', 4), ('cambia', 2), ('vox_es', 2)]\n"
     ]
    }
   ],
   "source": [
    "TOP = 10\n",
    "words_freq = Counter(words_freq).most_common(TOP)\n",
    "print(words_freq)"
   ]
  },
  {
   "cell_type": "markdown",
   "metadata": {},
   "source": [
    "#### 3.5.3 Top used bigrams without regarding the location"
   ]
  },
  {
   "cell_type": "code",
   "execution_count": 23,
   "metadata": {},
   "outputs": [],
   "source": [
    "bigrams_freq = dict()\n",
    "\n",
    "for location, row in df_wb.iterrows():\n",
    "    for bigrams, ctr in row['text_bigrams']:\n",
    "        if bigrams not in bigrams_freq:\n",
    "            bigrams_freq[bigrams] = ctr\n",
    "        else:\n",
    "            bigrams_freq[bigrams] += ctr"
   ]
  },
  {
   "cell_type": "code",
   "execution_count": 24,
   "metadata": {},
   "outputs": [
    {
     "name": "stdout",
     "output_type": "stream",
     "text": [
      "[(('real', 'madrid'), 10), (('elchiringuitotv', 'exclusinda'), 4), (('exclusinda', 'inda'), 4), (('comunidad', 'madrid'), 4), (('idiazayuso', 'solo'), 4), (('solo', 'vamos'), 4), (('vamos', 'subir'), 4), (('inda', 'real'), 3), (('ayuso', 'madrid'), 2), (('vox_es', 'vox'), 2)]\n"
     ]
    }
   ],
   "source": [
    "TOP = 10\n",
    "bigrams_freq = Counter(bigrams_freq).most_common(TOP)\n",
    "print(bigrams_freq)"
   ]
  },
  {
   "cell_type": "markdown",
   "metadata": {},
   "source": [
    "## 4. Sentiment Analysis"
   ]
  },
  {
   "cell_type": "markdown",
   "metadata": {},
   "source": [
    "**4.1 Perform sentiment analysis**"
   ]
  },
  {
   "cell_type": "code",
   "execution_count": 30,
   "metadata": {},
   "outputs": [],
   "source": [
    "def get_sentiment(text, to_lang):\n",
    "    sentiment = np.NaN\n",
    "    try:\n",
    "        sentiment = TextBlob(text).translate(to=to_lang).sentiment\n",
    "    except:\n",
    "        pass\n",
    "    return sentiment"
   ]
  },
  {
   "cell_type": "code",
   "execution_count": 31,
   "metadata": {},
   "outputs": [],
   "source": [
    "#Translate to English each tweet, then compute it's sentiment statistic estimations\n",
    "df['sentiment'] = df['text_normalized'].apply(lambda text: get_sentiment(text, 'en'))\n",
    "#Discard tweets that couldn't be translated to English\n",
    "df = df.dropna(subset=['sentiment'])\n",
    "df['polarity'] = df['sentiment'].apply(lambda sentiment: sentiment.polarity)\n",
    "df['subjectivity'] = df['sentiment'].apply(lambda sentiment: sentiment.subjectivity)"
   ]
  },
  {
   "cell_type": "code",
   "execution_count": 32,
   "metadata": {},
   "outputs": [],
   "source": [
    "#Scale polarity from [-1, 1] to [0, 1]\n",
    "df['polarity'] = (df['polarity'] + 1) / 2"
   ]
  },
  {
   "cell_type": "code",
   "execution_count": 33,
   "metadata": {},
   "outputs": [
    {
     "data": {
      "text/html": [
       "<div>\n",
       "<style scoped>\n",
       "    .dataframe tbody tr th:only-of-type {\n",
       "        vertical-align: middle;\n",
       "    }\n",
       "\n",
       "    .dataframe tbody tr th {\n",
       "        vertical-align: top;\n",
       "    }\n",
       "\n",
       "    .dataframe thead th {\n",
       "        text-align: right;\n",
       "    }\n",
       "</style>\n",
       "<table border=\"1\" class=\"dataframe\">\n",
       "  <thead>\n",
       "    <tr style=\"text-align: right;\">\n",
       "      <th></th>\n",
       "      <th>user_location</th>\n",
       "      <th>polarity</th>\n",
       "      <th>subjectivity</th>\n",
       "    </tr>\n",
       "  </thead>\n",
       "  <tbody>\n",
       "    <tr>\n",
       "      <th>0</th>\n",
       "      <td>Albacete</td>\n",
       "      <td>0.633333</td>\n",
       "      <td>0.500000</td>\n",
       "    </tr>\n",
       "    <tr>\n",
       "      <th>1</th>\n",
       "      <td>Almería</td>\n",
       "      <td>0.150000</td>\n",
       "      <td>0.800000</td>\n",
       "    </tr>\n",
       "    <tr>\n",
       "      <th>2</th>\n",
       "      <td>Arganda del Rey</td>\n",
       "      <td>0.500000</td>\n",
       "      <td>0.000000</td>\n",
       "    </tr>\n",
       "    <tr>\n",
       "      <th>3</th>\n",
       "      <td>Badajoz</td>\n",
       "      <td>0.500000</td>\n",
       "      <td>0.016667</td>\n",
       "    </tr>\n",
       "    <tr>\n",
       "      <th>4</th>\n",
       "      <td>Barcelona</td>\n",
       "      <td>0.514732</td>\n",
       "      <td>0.142659</td>\n",
       "    </tr>\n",
       "  </tbody>\n",
       "</table>\n",
       "</div>"
      ],
      "text/plain": [
       "     user_location  polarity  subjectivity\n",
       "0         Albacete  0.633333      0.500000\n",
       "1          Almería  0.150000      0.800000\n",
       "2  Arganda del Rey  0.500000      0.000000\n",
       "3          Badajoz  0.500000      0.016667\n",
       "4        Barcelona  0.514732      0.142659"
      ]
     },
     "execution_count": 33,
     "metadata": {},
     "output_type": "execute_result"
    }
   ],
   "source": [
    "#Compute mean polarity and subjectivity per location\n",
    "df_per_city = df[['user_location', 'polarity', 'subjectivity']].groupby(by='user_location').mean()\n",
    "df_per_city.reset_index(inplace=True)\n",
    "df_per_city.head()"
   ]
  },
  {
   "cell_type": "code",
   "execution_count": 34,
   "metadata": {},
   "outputs": [
    {
     "data": {
      "text/html": [
       "<div>\n",
       "<style scoped>\n",
       "    .dataframe tbody tr th:only-of-type {\n",
       "        vertical-align: middle;\n",
       "    }\n",
       "\n",
       "    .dataframe tbody tr th {\n",
       "        vertical-align: top;\n",
       "    }\n",
       "\n",
       "    .dataframe thead th {\n",
       "        text-align: right;\n",
       "    }\n",
       "</style>\n",
       "<table border=\"1\" class=\"dataframe\">\n",
       "  <thead>\n",
       "    <tr style=\"text-align: right;\">\n",
       "      <th></th>\n",
       "      <th>location</th>\n",
       "      <th>counter</th>\n",
       "    </tr>\n",
       "  </thead>\n",
       "  <tbody>\n",
       "    <tr>\n",
       "      <th>0</th>\n",
       "      <td>Madrid</td>\n",
       "      <td>76</td>\n",
       "    </tr>\n",
       "    <tr>\n",
       "      <th>1</th>\n",
       "      <td>Barcelona</td>\n",
       "      <td>12</td>\n",
       "    </tr>\n",
       "    <tr>\n",
       "      <th>2</th>\n",
       "      <td>Valencia</td>\n",
       "      <td>7</td>\n",
       "    </tr>\n",
       "    <tr>\n",
       "      <th>3</th>\n",
       "      <td>Córdoba</td>\n",
       "      <td>7</td>\n",
       "    </tr>\n",
       "    <tr>\n",
       "      <th>4</th>\n",
       "      <td>Sevilla</td>\n",
       "      <td>3</td>\n",
       "    </tr>\n",
       "  </tbody>\n",
       "</table>\n",
       "</div>"
      ],
      "text/plain": [
       "    location  counter\n",
       "0     Madrid       76\n",
       "1  Barcelona       12\n",
       "2   Valencia        7\n",
       "3    Córdoba        7\n",
       "4    Sevilla        3"
      ]
     },
     "execution_count": 34,
     "metadata": {},
     "output_type": "execute_result"
    }
   ],
   "source": [
    "#Compute the number of tweets per location\n",
    "location_ctr = df['user_location'].value_counts()\n",
    "location_ctr = location_ctr.reset_index().rename(columns={'index': 'location', 'user_location': 'counter'})\n",
    "location_ctr.head()"
   ]
  },
  {
   "cell_type": "code",
   "execution_count": 35,
   "metadata": {},
   "outputs": [
    {
     "data": {
      "text/html": [
       "<div>\n",
       "<style scoped>\n",
       "    .dataframe tbody tr th:only-of-type {\n",
       "        vertical-align: middle;\n",
       "    }\n",
       "\n",
       "    .dataframe tbody tr th {\n",
       "        vertical-align: top;\n",
       "    }\n",
       "\n",
       "    .dataframe thead th {\n",
       "        text-align: right;\n",
       "    }\n",
       "</style>\n",
       "<table border=\"1\" class=\"dataframe\">\n",
       "  <thead>\n",
       "    <tr style=\"text-align: right;\">\n",
       "      <th></th>\n",
       "      <th>user_location</th>\n",
       "      <th>polarity</th>\n",
       "      <th>subjectivity</th>\n",
       "      <th>counter</th>\n",
       "      <th>latitude</th>\n",
       "      <th>longitude</th>\n",
       "    </tr>\n",
       "  </thead>\n",
       "  <tbody>\n",
       "    <tr>\n",
       "      <th>0</th>\n",
       "      <td>Albacete</td>\n",
       "      <td>0.633333</td>\n",
       "      <td>0.500000</td>\n",
       "      <td>1</td>\n",
       "      <td>38.99765</td>\n",
       "      <td>-1.860070</td>\n",
       "    </tr>\n",
       "    <tr>\n",
       "      <th>1</th>\n",
       "      <td>Almería</td>\n",
       "      <td>0.150000</td>\n",
       "      <td>0.800000</td>\n",
       "      <td>1</td>\n",
       "      <td>36.84016</td>\n",
       "      <td>-2.467922</td>\n",
       "    </tr>\n",
       "    <tr>\n",
       "      <th>2</th>\n",
       "      <td>Arganda del Rey</td>\n",
       "      <td>0.500000</td>\n",
       "      <td>0.000000</td>\n",
       "      <td>1</td>\n",
       "      <td>40.30095</td>\n",
       "      <td>-3.438080</td>\n",
       "    </tr>\n",
       "    <tr>\n",
       "      <th>3</th>\n",
       "      <td>Badajoz</td>\n",
       "      <td>0.500000</td>\n",
       "      <td>0.016667</td>\n",
       "      <td>2</td>\n",
       "      <td>38.87860</td>\n",
       "      <td>-6.970284</td>\n",
       "    </tr>\n",
       "    <tr>\n",
       "      <th>4</th>\n",
       "      <td>Barcelona</td>\n",
       "      <td>0.514732</td>\n",
       "      <td>0.142659</td>\n",
       "      <td>12</td>\n",
       "      <td>41.38792</td>\n",
       "      <td>2.169919</td>\n",
       "    </tr>\n",
       "  </tbody>\n",
       "</table>\n",
       "</div>"
      ],
      "text/plain": [
       "     user_location  polarity  subjectivity  counter  latitude  longitude\n",
       "0         Albacete  0.633333      0.500000        1  38.99765  -1.860070\n",
       "1          Almería  0.150000      0.800000        1  36.84016  -2.467922\n",
       "2  Arganda del Rey  0.500000      0.000000        1  40.30095  -3.438080\n",
       "3          Badajoz  0.500000      0.016667        2  38.87860  -6.970284\n",
       "4        Barcelona  0.514732      0.142659       12  41.38792   2.169919"
      ]
     },
     "execution_count": 35,
     "metadata": {},
     "output_type": "execute_result"
    }
   ],
   "source": [
    "#Inner join to merge sentiment results and number of tweets per location\n",
    "pd_map = pd.merge(left=df_per_city, right=location_ctr, left_on='user_location', right_on='location')\n",
    "#Inner join to add the coordinates of each location\n",
    "pd_map = pd.merge(left=pd_map, right=df_cities, left_on='user_location', right_on='town')\n",
    "#Remove repeated attributes\n",
    "pd_map = pd_map.drop(columns=['location', 'town'])\n",
    "\n",
    "pd_map.head()"
   ]
  },
  {
   "cell_type": "markdown",
   "metadata": {},
   "source": [
    "**4.2 Plot the results**"
   ]
  },
  {
   "cell_type": "code",
   "execution_count": 38,
   "metadata": {},
   "outputs": [],
   "source": [
    "def get_radius(ctr, total):\n",
    "    \"\"\"\n",
    "    Given the number of tweets in a location and the total number of\n",
    "    tweets, return the radio of corresponding circle in the plot.\n",
    "    \n",
    "    Arguments:\n",
    "        ctr:\n",
    "            Number of tweets in the location\n",
    "        total:\n",
    "            Total number of tweets\n",
    "    \"\"\"\n",
    "    \n",
    "    if ctr < total*0.05:\n",
    "        return 0.15\n",
    "    elif ctr < total*0.1:\n",
    "        return 0.2\n",
    "    else:\n",
    "        return 0.25"
   ]
  },
  {
   "cell_type": "markdown",
   "metadata": {},
   "source": [
    "**4.2.1 Polarity plot**"
   ]
  },
  {
   "cell_type": "code",
   "execution_count": 39,
   "metadata": {},
   "outputs": [
    {
     "data": {
      "image/png": "[encoded data removed]",
      "text/plain": [
       "<Figure size 432x288 with 1 Axes>"
      ]
     },
     "metadata": {
      "needs_background": "light"
     },
     "output_type": "display_data"
    }
   ],
   "source": [
    "ax = plt.axes(projection=ccrs.PlateCarree())\n",
    "ax.stock_img()\n",
    "ax.set_title('Polarity map for keywords: ' + ','.join(keywords))                                                                                               \n",
    "ax.coastlines(resolution='50m')\n",
    "ax.set_global()\n",
    "ax.set_extent([-10.167, 5.633, 35.033, 45])\n",
    "\n",
    "legend_elements = [Line2D([0], [0], marker='o', color='w', label='Positive',\n",
    "                          markerfacecolor='g', markersize=10),\n",
    "                  Line2D([0], [0], marker='o', color='w', label='Negative',\n",
    "                          markerfacecolor='r', markersize=10),\n",
    "                  Line2D([0], [0], marker='o', color='w', label='Neutral',\n",
    "                          markerfacecolor='black', markersize=10)]\n",
    "ax.legend(handles=legend_elements, loc='lower right')\n",
    "    \n",
    "#Total number of tweets\n",
    "total = pd_map['counter'].values.sum()\n",
    "#Iterate over each location\n",
    "for idx, row in pd_map.iterrows():\n",
    "    xy = [row['longitude'], row['latitude']]\n",
    "    radius = get_radius(row['counter'], total)\n",
    "    color = None\n",
    "    if row['polarity'] > 0.5:\n",
    "        color = (0, row['polarity'], 0, 0.6) #Green color for positive tweets\n",
    "    else:\n",
    "        color = (1 - row['polarity'], 0, 0, 0.6) #Red color for negative tweets\n",
    "    ax.add_patch(Circle(xy=xy, radius=radius, color=color))\n",
    "#If the polarity level is low, i.e around 0.5 after normalization, it will be plot darker\n",
    "    \n",
    "#Save the image\n",
    "try:\n",
    "    os.mkdir(output_folder+'/images')\n",
    "except:\n",
    "    pass\n",
    "plt.savefig(output_folder+'/images/polarity.png')\n",
    "\n",
    "#Show the image\n",
    "plt.show()"
   ]
  },
  {
   "cell_type": "markdown",
   "metadata": {},
   "source": [
    "**4.2.2 Subjectivity plot**"
   ]
  },
  {
   "cell_type": "code",
   "execution_count": 40,
   "metadata": {},
   "outputs": [
    {
     "data": {
      "image/png": "[encoded data removed]",
      "text/plain": [
       "<Figure size 432x288 with 1 Axes>"
      ]
     },
     "metadata": {
      "needs_background": "light"
     },
     "output_type": "display_data"
    }
   ],
   "source": [
    "ax = plt.axes(projection=ccrs.PlateCarree())\n",
    "ax.stock_img()\n",
    "ax.set_title('Subjectivity map for keywords: ' + ','.join(keywords))                                                                                              \n",
    "ax.coastlines(resolution='50m')\n",
    "ax.set_global()\n",
    "ax.set_extent([-10.167, 5.633, 35.033, 45])\n",
    "\n",
    "legend_elements = [Line2D([0], [0], marker='o', color='w', label='Subjective',\n",
    "                          markerfacecolor='g', markersize=10),\n",
    "                  Line2D([0], [0], marker='o', color='w', label='Objective',\n",
    "                          markerfacecolor='r', markersize=10),\n",
    "                  Line2D([0], [0], marker='o', color='w', label='Unclear',\n",
    "                          markerfacecolor='black', markersize=10)]\n",
    "ax.legend(handles=legend_elements, loc='lower right')\n",
    "\n",
    "#Total number of tweets\n",
    "total = pd_map['counter'].values.sum()\n",
    "#Iterate over each location\n",
    "for idx, row in pd_map.iterrows():\n",
    "    xy = [row['longitude'], row['latitude']]\n",
    "    radius = get_radius(row['counter'], total)\n",
    "    color = None\n",
    "    if row['subjectivity'] > 0.5:\n",
    "        color = (0, row['subjectivity'], 0, 0.6) #Green color por high subjectivity\n",
    "    else:\n",
    "        color = (1 - row['subjectivity'], 0, 0, 0.6) #Red color por high objectivity\n",
    "    ax.add_patch(Circle(xy=xy, radius=radius, color=color))\n",
    "#If the subjectivity level is not high enough, i.e around 0, it will be plot darker\n",
    "\n",
    "#Save the image\n",
    "try:\n",
    "    os.mkdir(output_folder+'/images')\n",
    "except:\n",
    "    pass\n",
    "plt.savefig(output_folder+'/images/subjectivity.png')\n",
    "\n",
    "#Show the image\n",
    "plt.show()"
   ]
  },
  {
   "cell_type": "markdown",
   "metadata": {},
   "source": [
    "## 5 Save the results in files"
   ]
  },
  {
   "cell_type": "markdown",
   "metadata": {},
   "source": [
    "**Store the top words used per location:**"
   ]
  },
  {
   "cell_type": "code",
   "execution_count": 41,
   "metadata": {},
   "outputs": [],
   "source": [
    "words_file = output_folder+'/words_location.txt'\n",
    "\n",
    "with open(words_file, 'w') as f:\n",
    "    for location, row in df_wb.iterrows():\n",
    "        f.write(location+'\\n')\n",
    "        \n",
    "        for word, ctr in row['top_words']:\n",
    "            f.write(word+' '+str(ctr)+'\\n')\n",
    "        f.write('\\n')"
   ]
  },
  {
   "cell_type": "markdown",
   "metadata": {},
   "source": [
    "**Store the top bigrams used per location:**"
   ]
  },
  {
   "cell_type": "code",
   "execution_count": 42,
   "metadata": {},
   "outputs": [],
   "source": [
    "bigrams_file = output_folder+'/bigrams_location.txt'\n",
    "\n",
    "with open(bigrams_file, 'w') as f:\n",
    "    for location, row in df_wb.iterrows():\n",
    "        f.write(location +'\\n')\n",
    "        \n",
    "        for bigram, ctr in row['text_bigrams']:\n",
    "            f.write(bigram[0]+' '+bigram[1]+' '+str(ctr)+'\\n')\n",
    "        f.write('\\n')"
   ]
  },
  {
   "cell_type": "markdown",
   "metadata": {},
   "source": [
    "**Store the number of tweets per location:**"
   ]
  },
  {
   "cell_type": "code",
   "execution_count": 43,
   "metadata": {},
   "outputs": [],
   "source": [
    "main_file = output_folder+'/counter_location.txt'\n",
    "\n",
    "with open(main_file, 'w') as f:\n",
    "    for location in users_per_location.index:\n",
    "        f.write(location+' '+str(users_per_location[location])+'\\n')"
   ]
  },
  {
   "cell_type": "markdown",
   "metadata": {},
   "source": [
    "**Store mean polarity and subjectivity of tweets per location:**"
   ]
  },
  {
   "cell_type": "code",
   "execution_count": 44,
   "metadata": {},
   "outputs": [],
   "source": [
    "sentiment_file = output_folder+'/sentiment_location.txt'\n",
    "\n",
    "with open(sentiment_file, 'w') as f:\n",
    "    for idx, row in pd_map.iterrows():\n",
    "        polarity = \"%.3f\" % row['polarity']\n",
    "        subjectivity = \"%.3f\" % row['subjectivity']\n",
    "        f.write(row['user_location']+' '+polarity+' '+subjectivity+'\\n')"
   ]
  },
  {
   "cell_type": "markdown",
   "metadata": {},
   "source": [
    "**Store the top used words without regarding the location:**"
   ]
  },
  {
   "cell_type": "code",
   "execution_count": 45,
   "metadata": {},
   "outputs": [],
   "source": [
    "words_file = output_folder+'/words.txt'\n",
    "\n",
    "with open(words_file, 'w') as f:\n",
    "    for word, ctr in words_freq:\n",
    "        f.write(word+' '+str(ctr)+'\\n')"
   ]
  },
  {
   "cell_type": "markdown",
   "metadata": {},
   "source": [
    "**Store the global top used bigrams without regarding the location:**"
   ]
  },
  {
   "cell_type": "code",
   "execution_count": 46,
   "metadata": {},
   "outputs": [],
   "source": [
    "bigrams_file = output_folder+'/bigrams.txt'\n",
    "\n",
    "with open(bigrams_file, 'w') as f:\n",
    "    for bigram, ctr in bigrams_freq:\n",
    "        f.write(bigram[0]+' '+bigram[1]+' '+str(ctr)+'\\n')"
   ]
  }
 ],
 "metadata": {
  "kernelspec": {
   "display_name": "Python 3",
   "language": "python",
   "name": "python3"
  },
  "language_info": {
   "codemirror_mode": {
    "name": "ipython",
    "version": 3
   },
   "file_extension": ".py",
   "mimetype": "text/x-python",
   "name": "python",
   "nbconvert_exporter": "python",
   "pygments_lexer": "ipython3",
   "version": "3.7.1"
  }
 },
 "nbformat": 4,
 "nbformat_minor": 2
}
